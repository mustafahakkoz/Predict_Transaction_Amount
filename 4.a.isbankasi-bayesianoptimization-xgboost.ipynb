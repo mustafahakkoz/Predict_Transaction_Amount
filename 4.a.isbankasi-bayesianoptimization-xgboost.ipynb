{
 "cells": [
  {
   "cell_type": "markdown",
   "metadata": {
    "papermill": {
     "duration": 0.009082,
     "end_time": "2020-11-03T09:59:02.518686",
     "exception": false,
     "start_time": "2020-11-03T09:59:02.509604",
     "status": "completed"
    },
    "tags": []
   },
   "source": [
    "https://github.com/fmfn/BayesianOptimization"
   ]
  },
  {
   "cell_type": "code",
   "execution_count": 1,
   "metadata": {
    "execution": {
     "iopub.execute_input": "2020-11-03T09:59:02.544495Z",
     "iopub.status.busy": "2020-11-03T09:59:02.543825Z",
     "iopub.status.idle": "2020-11-03T09:59:30.356998Z",
     "shell.execute_reply": "2020-11-03T09:59:30.355827Z"
    },
    "papermill": {
     "duration": 27.830135,
     "end_time": "2020-11-03T09:59:30.357135",
     "exception": false,
     "start_time": "2020-11-03T09:59:02.527000",
     "status": "completed"
    },
    "tags": []
   },
   "outputs": [],
   "source": [
    "#read dfs# import packages\n",
    "import csv\n",
    "import pandas as pd\n",
    "import numpy as np\n",
    "import matplotlib.pyplot as plt\n",
    "train_X=pd.read_csv(\"../input/vol-1/train_x.csv\")\n",
    "train_y=pd.read_csv(\"../input/vol-1/train_y.csv\")\n",
    "normalized_test_df=pd.read_csv(\"../input/vol-1/normalized_test_df.csv\")\n",
    "df_test1=pd.read_csv(\"../input/vol-1/df_test1.csv\")"
   ]
  },
  {
   "cell_type": "code",
   "execution_count": 2,
   "metadata": {
    "execution": {
     "iopub.execute_input": "2020-11-03T09:59:30.670422Z",
     "iopub.status.busy": "2020-11-03T09:59:30.661387Z",
     "iopub.status.idle": "2020-11-03T09:59:30.685268Z",
     "shell.execute_reply": "2020-11-03T09:59:30.684677Z"
    },
    "papermill": {
     "duration": 0.319182,
     "end_time": "2020-11-03T09:59:30.685376",
     "exception": false,
     "start_time": "2020-11-03T09:59:30.366194",
     "status": "completed"
    },
    "tags": []
   },
   "outputs": [],
   "source": [
    "train_X=train_X.drop(columns=train_X.columns[0])\n",
    "train_y=train_y.drop(columns=train_y.columns[0])\n",
    "normalized_test_df=normalized_test_df.drop(columns=normalized_test_df.columns[0])\n",
    "df_test1=df_test1.drop(columns=df_test1.columns[0])"
   ]
  },
  {
   "cell_type": "code",
   "execution_count": 3,
   "metadata": {
    "_cell_guid": "b1076dfc-b9ad-4769-8c92-a6c4dae69d19",
    "_uuid": "8f2839f25d086af736a60e9eeb907d3b93b6e0e5",
    "execution": {
     "iopub.execute_input": "2020-11-03T09:59:30.718110Z",
     "iopub.status.busy": "2020-11-03T09:59:30.717420Z",
     "iopub.status.idle": "2020-11-03T10:11:54.067740Z",
     "shell.execute_reply": "2020-11-03T10:11:54.068680Z"
    },
    "papermill": {
     "duration": 743.375456,
     "end_time": "2020-11-03T10:11:54.068902",
     "exception": false,
     "start_time": "2020-11-03T09:59:30.693446",
     "status": "completed"
    },
    "tags": []
   },
   "outputs": [
    {
     "name": "stdout",
     "output_type": "stream",
     "text": [
      "|   iter    |  target   | colsam... |   gamma   | learni... | max_de... | max_depth | min_ch... | n_esti... | reg_la... | subsample |\n",
      "-------------------------------------------------------------------------------------------------------------------------------------\n",
      "| \u001b[0m 1       \u001b[0m | \u001b[0m-1.999e+0\u001b[0m | \u001b[0m 0.7043  \u001b[0m | \u001b[0m 0.2869  \u001b[0m | \u001b[0m 0.01003 \u001b[0m | \u001b[0m 0.03023 \u001b[0m | \u001b[0m 5.734   \u001b[0m | \u001b[0m 2.739   \u001b[0m | \u001b[0m 226.9   \u001b[0m | \u001b[0m 0.3456  \u001b[0m | \u001b[0m 0.6794  \u001b[0m |\n",
      "| \u001b[0m 2       \u001b[0m | \u001b[0m-2.114e+0\u001b[0m | \u001b[0m 0.764   \u001b[0m | \u001b[0m 0.585   \u001b[0m | \u001b[0m 0.2087  \u001b[0m | \u001b[0m 0.02045 \u001b[0m | \u001b[0m 9.391   \u001b[0m | \u001b[0m 2.219   \u001b[0m | \u001b[0m 686.9   \u001b[0m | \u001b[0m 0.4173  \u001b[0m | \u001b[0m 0.7117  \u001b[0m |\n",
      "| \u001b[95m 3       \u001b[0m | \u001b[95m-1.943e+0\u001b[0m | \u001b[95m 0.7353  \u001b[0m | \u001b[95m 0.01    \u001b[0m | \u001b[95m 0.1212  \u001b[0m | \u001b[95m 0.03918 \u001b[0m | \u001b[95m 5.799   \u001b[0m | \u001b[95m 3.374   \u001b[0m | \u001b[95m 227.9   \u001b[0m | \u001b[95m 0.7382  \u001b[0m | \u001b[95m 0.7008  \u001b[0m |\n",
      "| \u001b[0m 4       \u001b[0m | \u001b[0m-1.955e+0\u001b[0m | \u001b[0m 0.55    \u001b[0m | \u001b[0m 0.01    \u001b[0m | \u001b[0m 0.2342  \u001b[0m | \u001b[0m 0.04911 \u001b[0m | \u001b[0m 5.075   \u001b[0m | \u001b[0m 5.025   \u001b[0m | \u001b[0m 228.4   \u001b[0m | \u001b[0m 0.7212  \u001b[0m | \u001b[0m 0.7864  \u001b[0m |\n",
      "| \u001b[0m 5       \u001b[0m | \u001b[0m-1.965e+0\u001b[0m | \u001b[0m 0.5762  \u001b[0m | \u001b[0m 0.01    \u001b[0m | \u001b[0m 0.2059  \u001b[0m | \u001b[0m 0.03942 \u001b[0m | \u001b[0m 6.662   \u001b[0m | \u001b[0m 3.562   \u001b[0m | \u001b[0m 231.0   \u001b[0m | \u001b[0m 0.2053  \u001b[0m | \u001b[0m 0.7555  \u001b[0m |\n",
      "| \u001b[0m 6       \u001b[0m | \u001b[0m-1.944e+0\u001b[0m | \u001b[0m 0.8     \u001b[0m | \u001b[0m 0.01    \u001b[0m | \u001b[0m 0.07018 \u001b[0m | \u001b[0m 0.09744 \u001b[0m | \u001b[0m 8.43    \u001b[0m | \u001b[0m 6.041   \u001b[0m | \u001b[0m 227.9   \u001b[0m | \u001b[0m 0.2322  \u001b[0m | \u001b[0m 0.716   \u001b[0m |\n",
      "=====================================================================================================================================\n",
      "-----------------------------------------------------\n",
      "Final Results\n",
      "XGBOOST: -1999.223353\n",
      "XGBOOST: -2114.369554\n",
      "XGBOOST: -1943.272074\n",
      "XGBOOST: -1954.939547\n",
      "XGBOOST: -1964.751485\n",
      "XGBOOST: -1943.814335\n",
      "*****************************************************\n",
      "best params ==> {'target': -1943.2720744527571, 'params': {'colsample_bytree': 0.7352867358935102, 'gamma': 0.01, 'learning_rate': 0.12115604078643202, 'max_delta_step': 0.03918159639135667, 'max_depth': 5.798566427010585, 'min_child_weight': 3.3739655014413676, 'n_estimators': 227.94447396047252, 'reg_lambda': 0.7381672453007786, 'subsample': 0.7007545779375324}}\n"
     ]
    }
   ],
   "source": [
    "from sklearn.model_selection import cross_val_score\n",
    "from bayes_opt import BayesianOptimization\n",
    "import xgboost as xgb\n",
    "from sklearn.metrics import mean_squared_log_error\n",
    "\n",
    "def xgboostcv(max_depth,\n",
    "              learning_rate,\n",
    "              n_estimators,\n",
    "              gamma,\n",
    "              min_child_weight,\n",
    "              max_delta_step,\n",
    "              subsample,\n",
    "              reg_lambda,\n",
    "              colsample_bytree,\n",
    "              verbosity=0,\n",
    "              nthread=-1):\n",
    "    \n",
    "    model=xgb.XGBRegressor(max_depth=int(round(max_depth)),\n",
    "                           learning_rate=learning_rate,\n",
    "                           n_estimators=int(round(n_estimators)),\n",
    "                           verbosity=verbosity,\n",
    "                           nthread=nthread,\n",
    "                           gamma=gamma,\n",
    "                           min_child_weight=min_child_weight,\n",
    "                           max_delta_step=int(round(max_delta_step)),\n",
    "                           subsample=subsample,\n",
    "                           reg_lambda=reg_lambda,\n",
    "                           colsample_bytree=colsample_bytree,\n",
    "                           tree_method='gpu_hist')\n",
    "    \n",
    "    result = cross_val_score(model,train_X,train_y,scoring=\"neg_root_mean_squared_error\",cv=5).mean()\n",
    "    \n",
    "    return result\n",
    "\n",
    "\n",
    "# Load data set and target values\n",
    "xgboostBO = BayesianOptimization(f = xgboostcv,\n",
    "                                 pbounds = {'max_depth': (5, 10),\n",
    "                                          'learning_rate': (0.01, 0.3),\n",
    "                                          'n_estimators': (50, 1000),\n",
    "                                          'gamma': (1., 0.01),\n",
    "                                          'min_child_weight': (2, 10),\n",
    "                                          'max_delta_step': (0, 0.1),\n",
    "                                          'subsample': (0.6, 0.8),\n",
    "                                          'reg_lambda': (0, 1.),\n",
    "                                          'colsample_bytree' :(0.5, 0.99)\n",
    "                                          },\n",
    "                                random_state=1)\n",
    "\n",
    "xgboostBO.maximize(init_points=2, n_iter=4)\n",
    "print('-'*53)\n",
    "\n",
    "print('Final Results')\n",
    "for res in xgboostBO.res:\n",
    "    print('XGBOOST: %f' % res['target'])\n",
    "\n",
    "print('*'*53)\n",
    "print('best params ==>', xgboostBO.max)"
   ]
  },
  {
   "cell_type": "code",
   "execution_count": 4,
   "metadata": {
    "_cell_guid": "79c7e3d0-c299-4dcb-8224-4455121ee9b0",
    "_uuid": "d629ff2d2480ee46fbb7e2d37f6b5fab8052498a",
    "execution": {
     "iopub.execute_input": "2020-11-03T10:11:54.107412Z",
     "iopub.status.busy": "2020-11-03T10:11:54.105371Z",
     "iopub.status.idle": "2020-11-03T10:11:54.108139Z",
     "shell.execute_reply": "2020-11-03T10:11:54.108645Z"
    },
    "papermill": {
     "duration": 0.026592,
     "end_time": "2020-11-03T10:11:54.108759",
     "exception": false,
     "start_time": "2020-11-03T10:11:54.082167",
     "status": "completed"
    },
    "tags": []
   },
   "outputs": [],
   "source": [
    "param_dict = xgboostBO.max['params'] \n",
    "param_dict['tree_method']='gpu_hist'\n",
    "\n",
    "# we need to round some float values to integer since these parameters works only in integer\n",
    "param_dict['max_depth']=int(round(param_dict['max_depth']))\n",
    "param_dict['n_estimators']=int(round(param_dict['n_estimators']))\n",
    "param_dict['max_delta_step']=int(round(param_dict['max_delta_step']))\n"
   ]
  },
  {
   "cell_type": "code",
   "execution_count": 5,
   "metadata": {
    "execution": {
     "iopub.execute_input": "2020-11-03T10:11:54.136450Z",
     "iopub.status.busy": "2020-11-03T10:11:54.135803Z",
     "iopub.status.idle": "2020-11-03T10:11:54.147069Z",
     "shell.execute_reply": "2020-11-03T10:11:54.146379Z"
    },
    "papermill": {
     "duration": 0.02741,
     "end_time": "2020-11-03T10:11:54.147171",
     "exception": false,
     "start_time": "2020-11-03T10:11:54.119761",
     "status": "completed"
    },
    "tags": []
   },
   "outputs": [
    {
     "data": {
      "text/plain": [
       "XGBRegressor(base_score=None, booster=None, colsample_bylevel=None,\n",
       "             colsample_bynode=None, colsample_bytree=0.7352867358935102,\n",
       "             gamma=0.01, gpu_id=None, importance_type='gain',\n",
       "             interaction_constraints=None, learning_rate=0.12115604078643202,\n",
       "             max_delta_step=0, max_depth=6, min_child_weight=3.3739655014413676,\n",
       "             missing=nan, monotone_constraints=None, n_estimators=228,\n",
       "             n_jobs=None, num_parallel_tree=None, random_state=None,\n",
       "             reg_alpha=None, reg_lambda=0.7381672453007786,\n",
       "             scale_pos_weight=None, subsample=0.7007545779375324,\n",
       "             tree_method='gpu_hist', validate_parameters=None, verbosity=None)"
      ]
     },
     "execution_count": 5,
     "metadata": {},
     "output_type": "execute_result"
    }
   ],
   "source": [
    "best_xgb_model = xgb.XGBRegressor()\n",
    "best_xgb_model.set_params(**param_dict)"
   ]
  },
  {
   "cell_type": "code",
   "execution_count": 6,
   "metadata": {
    "execution": {
     "iopub.execute_input": "2020-11-03T10:11:54.176696Z",
     "iopub.status.busy": "2020-11-03T10:11:54.175382Z",
     "iopub.status.idle": "2020-11-03T10:12:05.188895Z",
     "shell.execute_reply": "2020-11-03T10:12:05.188299Z"
    },
    "papermill": {
     "duration": 11.030103,
     "end_time": "2020-11-03T10:12:05.189023",
     "exception": false,
     "start_time": "2020-11-03T10:11:54.158920",
     "status": "completed"
    },
    "tags": []
   },
   "outputs": [
    {
     "data": {
      "text/plain": [
       "XGBRegressor(base_score=0.5, booster='gbtree', colsample_bylevel=1,\n",
       "             colsample_bynode=1, colsample_bytree=0.7352867358935102,\n",
       "             gamma=0.01, gpu_id=0, importance_type='gain',\n",
       "             interaction_constraints='', learning_rate=0.12115604078643202,\n",
       "             max_delta_step=0, max_depth=6, min_child_weight=3.3739655014413676,\n",
       "             missing=nan,\n",
       "             monotone_constraints='(0,0,0,0,0,0,0,0,0,0,0,0,0,0,0,0,0,0,0,0,0,0,0,0,0,0,0)',\n",
       "             n_estimators=228, n_jobs=0, num_parallel_tree=1, random_state=0,\n",
       "             reg_alpha=0, reg_lambda=0.7381672453007786, scale_pos_weight=1,\n",
       "             subsample=0.7007545779375324, tree_method='gpu_hist',\n",
       "             validate_parameters=1, verbosity=None)"
      ]
     },
     "execution_count": 6,
     "metadata": {},
     "output_type": "execute_result"
    }
   ],
   "source": [
    "best_xgb_model.fit(train_X,train_y)"
   ]
  },
  {
   "cell_type": "code",
   "execution_count": 7,
   "metadata": {
    "execution": {
     "iopub.execute_input": "2020-11-03T10:12:05.222183Z",
     "iopub.status.busy": "2020-11-03T10:12:05.220661Z",
     "iopub.status.idle": "2020-11-03T10:12:07.466239Z",
     "shell.execute_reply": "2020-11-03T10:12:07.467256Z"
    },
    "papermill": {
     "duration": 2.265692,
     "end_time": "2020-11-03T10:12:07.467595",
     "exception": false,
     "start_time": "2020-11-03T10:12:05.201903",
     "status": "completed"
    },
    "tags": []
   },
   "outputs": [],
   "source": [
    "y_pred = best_xgb_model.predict(normalized_test_df)"
   ]
  },
  {
   "cell_type": "code",
   "execution_count": 8,
   "metadata": {
    "execution": {
     "iopub.execute_input": "2020-11-03T10:12:07.619339Z",
     "iopub.status.busy": "2020-11-03T10:12:07.618230Z",
     "iopub.status.idle": "2020-11-03T10:12:07.824293Z",
     "shell.execute_reply": "2020-11-03T10:12:07.823458Z"
    },
    "papermill": {
     "duration": 0.331879,
     "end_time": "2020-11-03T10:12:07.824430",
     "exception": false,
     "start_time": "2020-11-03T10:12:07.492551",
     "status": "completed"
    },
    "tags": []
   },
   "outputs": [],
   "source": [
    "# prediction results\n",
    "pred_df=pd.DataFrame(zip(df_test1['sector_id'], y_pred), columns=['sector_id', 'predictions'])\n",
    "submission_dff=pred_df.groupby('sector_id').sum()\n",
    "ss=submission_dff.reset_index()\n",
    "\n",
    "ss=ss.rename(columns={\"sector_id\": \"Sektor_Id\", \"predictions\": \"Expected\"})"
   ]
  },
  {
   "cell_type": "code",
   "execution_count": 9,
   "metadata": {
    "execution": {
     "iopub.execute_input": "2020-11-03T10:12:07.856334Z",
     "iopub.status.busy": "2020-11-03T10:12:07.855658Z",
     "iopub.status.idle": "2020-11-03T10:12:08.112287Z",
     "shell.execute_reply": "2020-11-03T10:12:08.111733Z"
    },
    "papermill": {
     "duration": 0.274214,
     "end_time": "2020-11-03T10:12:08.112406",
     "exception": false,
     "start_time": "2020-11-03T10:12:07.838192",
     "status": "completed"
    },
    "tags": []
   },
   "outputs": [],
   "source": [
    "ss.to_csv('out_bayesian.csv', index=False)"
   ]
  }
 ],
 "metadata": {
  "kernelspec": {
   "display_name": "Python 3",
   "language": "python",
   "name": "python3"
  },
  "language_info": {
   "codemirror_mode": {
    "name": "ipython",
    "version": 3
   },
   "file_extension": ".py",
   "mimetype": "text/x-python",
   "name": "python",
   "nbconvert_exporter": "python",
   "pygments_lexer": "ipython3",
   "version": "3.7.6"
  },
  "papermill": {
   "duration": 790.60555,
   "end_time": "2020-11-03T10:12:08.537445",
   "environment_variables": {},
   "exception": null,
   "input_path": "__notebook__.ipynb",
   "output_path": "__notebook__.ipynb",
   "parameters": {},
   "start_time": "2020-11-03T09:58:57.931895",
   "version": "2.1.0"
  }
 },
 "nbformat": 4,
 "nbformat_minor": 4
}
