{
 "cells": [
  {
   "cell_type": "code",
   "execution_count": 1,
   "metadata": {
    "_cell_guid": "b1076dfc-b9ad-4769-8c92-a6c4dae69d19",
    "_uuid": "8f2839f25d086af736a60e9eeb907d3b93b6e0e5",
    "execution": {
     "iopub.execute_input": "2020-11-08T17:29:31.762815Z",
     "iopub.status.busy": "2020-11-08T17:29:31.761951Z",
     "iopub.status.idle": "2020-11-08T17:29:32.533649Z",
     "shell.execute_reply": "2020-11-08T17:29:32.532609Z"
    },
    "papermill": {
     "duration": 0.790405,
     "end_time": "2020-11-08T17:29:32.533833",
     "exception": false,
     "start_time": "2020-11-08T17:29:31.743428",
     "status": "completed"
    },
    "tags": []
   },
   "outputs": [],
   "source": [
    "#read dfs# import packages\n",
    "import csv\n",
    "import pandas as pd\n",
    "import numpy as np\n",
    "import matplotlib.pyplot as plt\n",
    "import os \n",
    "from sklearn.metrics import accuracy_score, roc_curve, confusion_matrix, classification_report, roc_auc_score\n",
    "from sklearn.model_selection import train_test_split\n",
    "from sklearn.model_selection import ShuffleSplit\n",
    "from sklearn.model_selection import RandomizedSearchCV\n",
    "import sys \n",
    "from sklearn.model_selection import learning_curve\n",
    "from sklearn.datasets import make_classification\n",
    "from sklearn.preprocessing import StandardScaler\n"
   ]
  },
  {
   "cell_type": "code",
   "execution_count": 2,
   "metadata": {
    "execution": {
     "iopub.execute_input": "2020-11-08T17:29:32.561749Z",
     "iopub.status.busy": "2020-11-08T17:29:32.561014Z",
     "iopub.status.idle": "2020-11-08T17:30:05.422209Z",
     "shell.execute_reply": "2020-11-08T17:30:05.421241Z"
    },
    "papermill": {
     "duration": 32.87779,
     "end_time": "2020-11-08T17:30:05.422364",
     "exception": false,
     "start_time": "2020-11-08T17:29:32.544574",
     "status": "completed"
    },
    "tags": []
   },
   "outputs": [],
   "source": [
    "train_X=pd.read_csv(\"../input/vol3-kopya/reduced_train_X.csv\")\n",
    "train_y=pd.read_csv(\"../input/vol3-kopya/train_y.csv\")\n",
    "normalized_test_df=pd.read_csv(\"../input/vol3-kopya/reduced_test_X.csv\")\n",
    "df_test1=pd.read_csv(\"../input/vol3-kopya/df_test1.csv\")"
   ]
  },
  {
   "cell_type": "code",
   "execution_count": 3,
   "metadata": {
    "_cell_guid": "79c7e3d0-c299-4dcb-8224-4455121ee9b0",
    "_uuid": "d629ff2d2480ee46fbb7e2d37f6b5fab8052498a",
    "execution": {
     "iopub.execute_input": "2020-11-08T17:30:05.757964Z",
     "iopub.status.busy": "2020-11-08T17:30:05.757221Z",
     "iopub.status.idle": "2020-11-08T17:30:05.772232Z",
     "shell.execute_reply": "2020-11-08T17:30:05.771557Z"
    },
    "papermill": {
     "duration": 0.340556,
     "end_time": "2020-11-08T17:30:05.772349",
     "exception": false,
     "start_time": "2020-11-08T17:30:05.431793",
     "status": "completed"
    },
    "tags": []
   },
   "outputs": [],
   "source": [
    "train_X=train_X.drop(columns=[\"Unnamed: 0\"])\n",
    "train_y=train_y.drop(columns=[\"Unnamed: 0\"])\n",
    "normalized_test_df=normalized_test_df.drop(columns=[\"Unnamed: 0\"])\n",
    "df_test1=df_test1.drop(columns=[\"Unnamed: 0\"])"
   ]
  },
  {
   "cell_type": "code",
   "execution_count": 4,
   "metadata": {
    "execution": {
     "iopub.execute_input": "2020-11-08T17:30:05.799921Z",
     "iopub.status.busy": "2020-11-08T17:30:05.799035Z",
     "iopub.status.idle": "2020-11-08T17:30:08.142897Z",
     "shell.execute_reply": "2020-11-08T17:30:08.141800Z"
    },
    "papermill": {
     "duration": 2.361635,
     "end_time": "2020-11-08T17:30:08.143042",
     "exception": false,
     "start_time": "2020-11-08T17:30:05.781407",
     "status": "completed"
    },
    "tags": []
   },
   "outputs": [],
   "source": [
    "# cross-validation with 5 splits\n",
    "\n",
    "cv = ShuffleSplit(n_splits=5, test_size=0.2, random_state=0)\n",
    "\n",
    "#Importing XGBM Classifier \n",
    "from xgboost import XGBRegressor\n",
    "\n",
    "#creating an extreme Gradient boosting instance\n",
    "xgb = XGBRegressor(early_stopping_rounds=100,\n",
    "                   random_state=0, \n",
    "                   tree_method='gpu_hist', \n",
    "                   nthread=-1, \n",
    "                   verbosity=0)\n",
    "\n",
    "# parameters \n",
    "parameters = {\n",
    "                \"n_estimators\": [100, 300, 500],\n",
    "                \"max_depth\": [4, 5, 7],\n",
    "                \"subsample\": [0.4, 0.7, 1],\n",
    "                \"reg_lambda\":[1, 10, 100],\n",
    "                \"colsample_bytree\": [0.4, 0.6, 1],\n",
    "                \"max_bin\":[32, 64,128],\n",
    "                'max_leaves': [15, 31, 63],\n",
    "                \"min_child_weight\":[1,10,100,1000],\n",
    "                \n",
    "}\n"
   ]
  },
  {
   "cell_type": "code",
   "execution_count": 5,
   "metadata": {
    "execution": {
     "iopub.execute_input": "2020-11-08T17:30:08.175213Z",
     "iopub.status.busy": "2020-11-08T17:30:08.174344Z",
     "iopub.status.idle": "2020-11-08T19:23:06.266269Z",
     "shell.execute_reply": "2020-11-08T19:23:06.265622Z"
    },
    "papermill": {
     "duration": 6778.113897,
     "end_time": "2020-11-08T19:23:06.266401",
     "exception": false,
     "start_time": "2020-11-08T17:30:08.152504",
     "status": "completed"
    },
    "tags": []
   },
   "outputs": [
    {
     "name": "stderr",
     "output_type": "stream",
     "text": [
      "/opt/conda/lib/python3.7/site-packages/joblib/externals/loky/process_executor.py:706: UserWarning: A worker stopped while some jobs were given to the executor. This can be caused by a too short worker timeout or by a memory leak.\n",
      "  \"timeout or by a memory leak.\", UserWarning\n"
     ]
    },
    {
     "name": "stdout",
     "output_type": "stream",
     "text": [
      "The best parameters are {'subsample': 1, 'reg_lambda': 10, 'n_estimators': 300, 'min_child_weight': 1, 'max_leaves': 63, 'max_depth': 7, 'max_bin': 128, 'colsample_bytree': 0.6} with a score of 0.6977\n"
     ]
    }
   ],
   "source": [
    "# grid search for parameters\n",
    "grid = RandomizedSearchCV(estimator=xgb, param_distributions=parameters, cv=cv, n_jobs=-1, n_iter=100)\n",
    "grid.fit(train_X, train_y)\n",
    "\n",
    "# print best scores\n",
    "print(\"The best parameters are %s with a score of %0.4f\"\n",
    "      % (grid.best_params_, grid.best_score_))\n",
    "\n",
    "# prediction results\n",
    "y_pred = grid.predict(normalized_test_df)\n"
   ]
  },
  {
   "cell_type": "code",
   "execution_count": 6,
   "metadata": {
    "execution": {
     "iopub.execute_input": "2020-11-08T19:23:06.384481Z",
     "iopub.status.busy": "2020-11-08T19:23:06.383551Z",
     "iopub.status.idle": "2020-11-08T19:23:06.551435Z",
     "shell.execute_reply": "2020-11-08T19:23:06.550900Z"
    },
    "papermill": {
     "duration": 0.276008,
     "end_time": "2020-11-08T19:23:06.551547",
     "exception": false,
     "start_time": "2020-11-08T19:23:06.275539",
     "status": "completed"
    },
    "tags": []
   },
   "outputs": [],
   "source": [
    "# prediction results\n",
    "pred_df=pd.DataFrame(zip(df_test1['sector_id'], y_pred), columns=['sector_id', 'predictions'])\n"
   ]
  },
  {
   "cell_type": "code",
   "execution_count": 7,
   "metadata": {
    "execution": {
     "iopub.execute_input": "2020-11-08T19:23:06.578510Z",
     "iopub.status.busy": "2020-11-08T19:23:06.577470Z",
     "iopub.status.idle": "2020-11-08T19:23:06.589566Z",
     "shell.execute_reply": "2020-11-08T19:23:06.588999Z"
    },
    "papermill": {
     "duration": 0.029069,
     "end_time": "2020-11-08T19:23:06.589684",
     "exception": false,
     "start_time": "2020-11-08T19:23:06.560615",
     "status": "completed"
    },
    "tags": []
   },
   "outputs": [],
   "source": [
    "submission_dff=pred_df.groupby('sector_id').sum()\n",
    "ss=submission_dff.reset_index()"
   ]
  },
  {
   "cell_type": "code",
   "execution_count": 8,
   "metadata": {
    "execution": {
     "iopub.execute_input": "2020-11-08T19:23:06.614349Z",
     "iopub.status.busy": "2020-11-08T19:23:06.612617Z",
     "iopub.status.idle": "2020-11-08T19:23:06.615050Z",
     "shell.execute_reply": "2020-11-08T19:23:06.615500Z"
    },
    "papermill": {
     "duration": 0.016689,
     "end_time": "2020-11-08T19:23:06.615614",
     "exception": false,
     "start_time": "2020-11-08T19:23:06.598925",
     "status": "completed"
    },
    "tags": []
   },
   "outputs": [],
   "source": [
    "ss=ss.rename(columns={\"sector_id\": \"Sektor_Id\", \"predictions\": \"Expected\"})"
   ]
  },
  {
   "cell_type": "code",
   "execution_count": 9,
   "metadata": {
    "execution": {
     "iopub.execute_input": "2020-11-08T19:23:06.637727Z",
     "iopub.status.busy": "2020-11-08T19:23:06.637140Z",
     "iopub.status.idle": "2020-11-08T19:23:07.617833Z",
     "shell.execute_reply": "2020-11-08T19:23:07.616341Z"
    },
    "papermill": {
     "duration": 0.993438,
     "end_time": "2020-11-08T19:23:07.617956",
     "exception": false,
     "start_time": "2020-11-08T19:23:06.624518",
     "status": "completed"
    },
    "tags": []
   },
   "outputs": [],
   "source": [
    "ss.to_csv('out_random_search_xgboost.csv',index=False)\n",
    "pred_df.to_csv('pred_df_random_search_xg', index=False)"
   ]
  },
  {
   "cell_type": "code",
   "execution_count": null,
   "metadata": {
    "papermill": {
     "duration": 0.009007,
     "end_time": "2020-11-08T19:23:07.636436",
     "exception": false,
     "start_time": "2020-11-08T19:23:07.627429",
     "status": "completed"
    },
    "tags": []
   },
   "outputs": [],
   "source": []
  }
 ],
 "metadata": {
  "kernelspec": {
   "display_name": "Python 3",
   "language": "python",
   "name": "python3"
  },
  "language_info": {
   "codemirror_mode": {
    "name": "ipython",
    "version": 3
   },
   "file_extension": ".py",
   "mimetype": "text/x-python",
   "name": "python",
   "nbconvert_exporter": "python",
   "pygments_lexer": "ipython3",
   "version": "3.7.6"
  },
  "papermill": {
   "duration": 6820.366042,
   "end_time": "2020-11-08T19:23:08.067304",
   "environment_variables": {},
   "exception": null,
   "input_path": "__notebook__.ipynb",
   "output_path": "__notebook__.ipynb",
   "parameters": {},
   "start_time": "2020-11-08T17:29:27.701262",
   "version": "2.1.0"
  }
 },
 "nbformat": 4,
 "nbformat_minor": 4
}
