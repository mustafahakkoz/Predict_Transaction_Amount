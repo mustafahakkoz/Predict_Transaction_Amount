{
 "cells": [
  {
   "cell_type": "code",
   "execution_count": 1,
   "metadata": {
    "_cell_guid": "b1076dfc-b9ad-4769-8c92-a6c4dae69d19",
    "_uuid": "8f2839f25d086af736a60e9eeb907d3b93b6e0e5",
    "execution": {
     "iopub.execute_input": "2020-11-08T11:43:40.573047Z",
     "iopub.status.busy": "2020-11-08T11:43:40.572162Z",
     "iopub.status.idle": "2020-11-08T11:43:41.410520Z",
     "shell.execute_reply": "2020-11-08T11:43:41.409426Z"
    },
    "papermill": {
     "duration": 0.856573,
     "end_time": "2020-11-08T11:43:41.410692",
     "exception": false,
     "start_time": "2020-11-08T11:43:40.554119",
     "status": "completed"
    },
    "tags": []
   },
   "outputs": [],
   "source": [
    "#read dfs# import packages\n",
    "import csv\n",
    "import pandas as pd\n",
    "import numpy as np\n",
    "import matplotlib.pyplot as plt\n",
    "import os \n",
    "from sklearn.metrics import accuracy_score, roc_curve, confusion_matrix, classification_report, roc_auc_score\n",
    "from sklearn.model_selection import train_test_split\n",
    "from sklearn.model_selection import ShuffleSplit\n",
    "from sklearn.model_selection import RandomizedSearchCV\n",
    "import sys \n",
    "from sklearn.model_selection import learning_curve\n",
    "from sklearn.datasets import make_classification\n",
    "from sklearn.preprocessing import StandardScaler"
   ]
  },
  {
   "cell_type": "code",
   "execution_count": 2,
   "metadata": {
    "_cell_guid": "79c7e3d0-c299-4dcb-8224-4455121ee9b0",
    "_uuid": "d629ff2d2480ee46fbb7e2d37f6b5fab8052498a",
    "execution": {
     "iopub.execute_input": "2020-11-08T11:43:41.436905Z",
     "iopub.status.busy": "2020-11-08T11:43:41.436084Z",
     "iopub.status.idle": "2020-11-08T11:44:12.888175Z",
     "shell.execute_reply": "2020-11-08T11:44:12.887462Z"
    },
    "papermill": {
     "duration": 31.466863,
     "end_time": "2020-11-08T11:44:12.888319",
     "exception": false,
     "start_time": "2020-11-08T11:43:41.421456",
     "status": "completed"
    },
    "tags": []
   },
   "outputs": [],
   "source": [
    "train_X=pd.read_csv(\"../input/vol3-kopya/reduced_train_X.csv\")\n",
    "train_y=pd.read_csv(\"../input/vol3-kopya/train_y.csv\")\n",
    "normalized_test_df=pd.read_csv(\"../input/vol3-kopya/reduced_test_X.csv\")\n",
    "df_test1=pd.read_csv(\"../input/vol3-kopya/df_test1.csv\")"
   ]
  },
  {
   "cell_type": "code",
   "execution_count": 3,
   "metadata": {
    "execution": {
     "iopub.execute_input": "2020-11-08T11:44:13.218714Z",
     "iopub.status.busy": "2020-11-08T11:44:13.217945Z",
     "iopub.status.idle": "2020-11-08T11:44:13.231829Z",
     "shell.execute_reply": "2020-11-08T11:44:13.232419Z"
    },
    "papermill": {
     "duration": 0.335779,
     "end_time": "2020-11-08T11:44:13.232576",
     "exception": false,
     "start_time": "2020-11-08T11:44:12.896797",
     "status": "completed"
    },
    "tags": []
   },
   "outputs": [],
   "source": [
    "train_X=train_X.drop(columns=train_X.columns[0])\n",
    "train_y=train_y.drop(columns=train_y.columns[0])\n",
    "normalized_test_df=normalized_test_df.drop(columns=normalized_test_df.columns[0])\n",
    "df_test1=df_test1.drop(columns=df_test1.columns[0])"
   ]
  },
  {
   "cell_type": "code",
   "execution_count": 4,
   "metadata": {
    "execution": {
     "iopub.execute_input": "2020-11-08T11:44:13.258168Z",
     "iopub.status.busy": "2020-11-08T11:44:13.257366Z",
     "iopub.status.idle": "2020-11-08T11:44:15.521284Z",
     "shell.execute_reply": "2020-11-08T11:44:15.519964Z"
    },
    "papermill": {
     "duration": 2.280273,
     "end_time": "2020-11-08T11:44:15.521411",
     "exception": false,
     "start_time": "2020-11-08T11:44:13.241138",
     "status": "completed"
    },
    "tags": []
   },
   "outputs": [],
   "source": [
    "# cross-validation with 5 splits\n",
    "cv = ShuffleSplit(n_splits=5, test_size=0.2, random_state=0)\n",
    "\n",
    "#Importing XGBM Classifier \n",
    "from xgboost import XGBRegressor\n",
    "\n",
    "#creating an extreme Gradient boosting instance\n",
    "xgb = XGBRegressor(random_state=0, tree_method='gpu_hist', nthread=-1, verbosity=0)\n",
    "\n",
    "# parameters \n",
    "parameters = {\n",
    "                \"n_estimators\": [100, 300, 500],\n",
    "                \"max_depth\": [4, 5, 7],\n",
    "                \"subsample\": [0.4, 0.7, 1],\n",
    "                \"reg_lambda\":[1, 10, 100],\n",
    "                \"colsample_bytree\": [0.4, 0.6, 1]\n",
    "                \n",
    "}"
   ]
  },
  {
   "cell_type": "code",
   "execution_count": 5,
   "metadata": {
    "execution": {
     "iopub.execute_input": "2020-11-08T11:44:15.551705Z",
     "iopub.status.busy": "2020-11-08T11:44:15.551015Z",
     "iopub.status.idle": "2020-11-08T12:45:01.423885Z",
     "shell.execute_reply": "2020-11-08T12:45:01.423152Z"
    },
    "papermill": {
     "duration": 3645.893196,
     "end_time": "2020-11-08T12:45:01.424009",
     "exception": false,
     "start_time": "2020-11-08T11:44:15.530813",
     "status": "completed"
    },
    "tags": []
   },
   "outputs": [
    {
     "name": "stderr",
     "output_type": "stream",
     "text": [
      "/opt/conda/lib/python3.7/site-packages/joblib/externals/loky/process_executor.py:706: UserWarning: A worker stopped while some jobs were given to the executor. This can be caused by a too short worker timeout or by a memory leak.\n",
      "  \"timeout or by a memory leak.\", UserWarning\n"
     ]
    },
    {
     "name": "stdout",
     "output_type": "stream",
     "text": [
      "The best parameters are {'subsample': 1, 'reg_lambda': 10, 'n_estimators': 300, 'max_depth': 5, 'colsample_bytree': 0.4} with a score of 0.7230\n"
     ]
    }
   ],
   "source": [
    "# grid search for parameters\n",
    "grid = RandomizedSearchCV(estimator=xgb,  param_distributions=parameters, cv=cv, n_jobs=-1, n_iter=50)\n",
    "grid.fit(train_X, train_y)\n",
    "\n",
    "# print best scores\n",
    "print(\"The best parameters are %s with a score of %0.4f\"\n",
    "      % (grid.best_params_, grid.best_score_))\n",
    "\n",
    "# prediction results\n",
    "y_pred = grid.predict(normalized_test_df)"
   ]
  },
  {
   "cell_type": "code",
   "execution_count": 6,
   "metadata": {
    "execution": {
     "iopub.execute_input": "2020-11-08T12:45:01.545212Z",
     "iopub.status.busy": "2020-11-08T12:45:01.544272Z",
     "iopub.status.idle": "2020-11-08T12:45:01.719550Z",
     "shell.execute_reply": "2020-11-08T12:45:01.718972Z"
    },
    "papermill": {
     "duration": 0.286221,
     "end_time": "2020-11-08T12:45:01.719688",
     "exception": false,
     "start_time": "2020-11-08T12:45:01.433467",
     "status": "completed"
    },
    "tags": []
   },
   "outputs": [],
   "source": [
    "# prediction results\n",
    "pred_df=pd.DataFrame(zip(df_test1['sector_id'], y_pred), columns=['sector_id', 'predictions'])"
   ]
  },
  {
   "cell_type": "code",
   "execution_count": 7,
   "metadata": {
    "execution": {
     "iopub.execute_input": "2020-11-08T12:45:01.747966Z",
     "iopub.status.busy": "2020-11-08T12:45:01.747119Z",
     "iopub.status.idle": "2020-11-08T12:45:01.760040Z",
     "shell.execute_reply": "2020-11-08T12:45:01.759416Z"
    },
    "papermill": {
     "duration": 0.030577,
     "end_time": "2020-11-08T12:45:01.760177",
     "exception": false,
     "start_time": "2020-11-08T12:45:01.729600",
     "status": "completed"
    },
    "tags": []
   },
   "outputs": [],
   "source": [
    "submission_dff=pred_df.groupby('sector_id').sum()\n",
    "ss=submission_dff.reset_index()"
   ]
  },
  {
   "cell_type": "code",
   "execution_count": 8,
   "metadata": {
    "execution": {
     "iopub.execute_input": "2020-11-08T12:45:01.784850Z",
     "iopub.status.busy": "2020-11-08T12:45:01.784229Z",
     "iopub.status.idle": "2020-11-08T12:45:01.788382Z",
     "shell.execute_reply": "2020-11-08T12:45:01.787691Z"
    },
    "papermill": {
     "duration": 0.018439,
     "end_time": "2020-11-08T12:45:01.788481",
     "exception": false,
     "start_time": "2020-11-08T12:45:01.770042",
     "status": "completed"
    },
    "tags": []
   },
   "outputs": [],
   "source": [
    "ss=ss.rename(columns={\"sector_id\": \"Sektor_Id\", \"predictions\": \"Expected\"})"
   ]
  },
  {
   "cell_type": "code",
   "execution_count": 9,
   "metadata": {
    "execution": {
     "iopub.execute_input": "2020-11-08T12:45:01.812703Z",
     "iopub.status.busy": "2020-11-08T12:45:01.811903Z",
     "iopub.status.idle": "2020-11-08T12:45:02.905894Z",
     "shell.execute_reply": "2020-11-08T12:45:02.904531Z"
    },
    "papermill": {
     "duration": 1.108104,
     "end_time": "2020-11-08T12:45:02.906197",
     "exception": false,
     "start_time": "2020-11-08T12:45:01.798093",
     "status": "completed"
    },
    "tags": []
   },
   "outputs": [],
   "source": [
    "ss.to_csv('out_random_search_xgboost.csv',index=False)\n",
    "pred_df.to_csv('pred_df_random_search_xg', index=False)"
   ]
  },
  {
   "cell_type": "code",
   "execution_count": null,
   "metadata": {
    "papermill": {
     "duration": 0.016395,
     "end_time": "2020-11-08T12:45:02.936970",
     "exception": false,
     "start_time": "2020-11-08T12:45:02.920575",
     "status": "completed"
    },
    "tags": []
   },
   "outputs": [],
   "source": []
  }
 ],
 "metadata": {
  "kernelspec": {
   "display_name": "Python 3",
   "language": "python",
   "name": "python3"
  },
  "language_info": {
   "codemirror_mode": {
    "name": "ipython",
    "version": 3
   },
   "file_extension": ".py",
   "mimetype": "text/x-python",
   "name": "python",
   "nbconvert_exporter": "python",
   "pygments_lexer": "ipython3",
   "version": "3.7.6"
  },
  "papermill": {
   "duration": 3687.093116,
   "end_time": "2020-11-08T12:45:03.488858",
   "environment_variables": {},
   "exception": null,
   "input_path": "__notebook__.ipynb",
   "output_path": "__notebook__.ipynb",
   "parameters": {},
   "start_time": "2020-11-08T11:43:36.395742",
   "version": "2.1.0"
  }
 },
 "nbformat": 4,
 "nbformat_minor": 4
}
