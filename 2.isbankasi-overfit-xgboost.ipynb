{
 "cells": [
  {
   "cell_type": "code",
   "execution_count": 1,
   "metadata": {
    "_cell_guid": "b1076dfc-b9ad-4769-8c92-a6c4dae69d19",
    "_uuid": "8f2839f25d086af736a60e9eeb907d3b93b6e0e5",
    "execution": {
     "iopub.execute_input": "2020-11-09T11:34:42.289680Z",
     "iopub.status.busy": "2020-11-09T11:34:42.288828Z",
     "iopub.status.idle": "2020-11-09T11:34:43.020075Z",
     "shell.execute_reply": "2020-11-09T11:34:43.019432Z"
    },
    "papermill": {
     "duration": 0.761189,
     "end_time": "2020-11-09T11:34:43.020191",
     "exception": false,
     "start_time": "2020-11-09T11:34:42.259002",
     "status": "completed"
    },
    "tags": []
   },
   "outputs": [],
   "source": [
    "#read dfs# import packages\n",
    "import csv\n",
    "import pandas as pd\n",
    "import numpy as np\n",
    "import matplotlib.pyplot as plt\n",
    "import os \n",
    "from sklearn.metrics import accuracy_score, roc_curve, confusion_matrix, classification_report, roc_auc_score\n",
    "from sklearn.model_selection import train_test_split\n",
    "from sklearn.model_selection import ShuffleSplit\n",
    "from sklearn.model_selection import RandomizedSearchCV\n",
    "import sys \n",
    "from sklearn.model_selection import learning_curve\n",
    "from sklearn.datasets import make_classification\n",
    "from sklearn.preprocessing import StandardScaler, LabelEncoder"
   ]
  },
  {
   "cell_type": "code",
   "execution_count": 2,
   "metadata": {
    "execution": {
     "iopub.execute_input": "2020-11-09T11:34:43.063312Z",
     "iopub.status.busy": "2020-11-09T11:34:43.062707Z",
     "iopub.status.idle": "2020-11-09T11:35:12.595864Z",
     "shell.execute_reply": "2020-11-09T11:35:12.594411Z"
    },
    "papermill": {
     "duration": 29.557625,
     "end_time": "2020-11-09T11:35:12.596000",
     "exception": false,
     "start_time": "2020-11-09T11:34:43.038375",
     "status": "completed"
    },
    "tags": []
   },
   "outputs": [],
   "source": [
    "train_X=pd.read_csv(\"../input/vol3-kopya-no-scaling/reduced_train_X.csv\")\n",
    "train_y=pd.read_csv(\"../input/vol3-kopya-no-scaling/train_y.csv\")\n",
    "normalized_test_df=pd.read_csv(\"../input/vol3-kopya-no-scaling/reduced_test_X.csv\")\n",
    "df_test1=pd.read_csv(\"../input/vol3-kopya-no-scaling/df_test1.csv\")"
   ]
  },
  {
   "cell_type": "code",
   "execution_count": 3,
   "metadata": {
    "_cell_guid": "79c7e3d0-c299-4dcb-8224-4455121ee9b0",
    "_uuid": "d629ff2d2480ee46fbb7e2d37f6b5fab8052498a",
    "execution": {
     "iopub.execute_input": "2020-11-09T11:35:12.844753Z",
     "iopub.status.busy": "2020-11-09T11:35:12.843189Z",
     "iopub.status.idle": "2020-11-09T11:35:13.051484Z",
     "shell.execute_reply": "2020-11-09T11:35:13.050903Z"
    },
    "papermill": {
     "duration": 0.437461,
     "end_time": "2020-11-09T11:35:13.051633",
     "exception": false,
     "start_time": "2020-11-09T11:35:12.614172",
     "status": "completed"
    },
    "tags": []
   },
   "outputs": [],
   "source": [
    "train_X=train_X.drop(columns=train_X.columns[0])\n",
    "train_y=train_y.drop(columns=train_y.columns[0])\n",
    "normalized_test_df=normalized_test_df.drop(columns=normalized_test_df.columns[0])\n",
    "df_test1=df_test1.drop(columns=df_test1.columns[0])"
   ]
  },
  {
   "cell_type": "code",
   "execution_count": 4,
   "metadata": {
    "execution": {
     "iopub.execute_input": "2020-11-09T11:35:13.094993Z",
     "iopub.status.busy": "2020-11-09T11:35:13.093975Z",
     "iopub.status.idle": "2020-11-09T11:35:13.107951Z",
     "shell.execute_reply": "2020-11-09T11:35:13.107482Z"
    },
    "papermill": {
     "duration": 0.037314,
     "end_time": "2020-11-09T11:35:13.108048",
     "exception": false,
     "start_time": "2020-11-09T11:35:13.070734",
     "status": "completed"
    },
    "tags": []
   },
   "outputs": [
    {
     "data": {
      "text/plain": [
       "ISLEM_TUTARI_Y    0\n",
       "dtype: int64"
      ]
     },
     "execution_count": 4,
     "metadata": {},
     "output_type": "execute_result"
    }
   ],
   "source": [
    "train_y.isna().sum()"
   ]
  },
  {
   "cell_type": "code",
   "execution_count": 5,
   "metadata": {
    "execution": {
     "iopub.execute_input": "2020-11-09T11:35:13.530360Z",
     "iopub.status.busy": "2020-11-09T11:35:13.529252Z",
     "iopub.status.idle": "2020-11-09T11:35:13.654956Z",
     "shell.execute_reply": "2020-11-09T11:35:13.654351Z"
    },
    "papermill": {
     "duration": 0.528568,
     "end_time": "2020-11-09T11:35:13.655066",
     "exception": false,
     "start_time": "2020-11-09T11:35:13.126498",
     "status": "completed"
    },
    "tags": []
   },
   "outputs": [],
   "source": [
    "bin_dict = {'PESIN': 1, 'TAKSITLI': 0}\n",
    "train_X['ISLEM_TURU'] = train_X['ISLEM_TURU'].map(bin_dict)\n",
    "normalized_test_df['ISLEM_TURU'] = normalized_test_df['ISLEM_TURU'].map(bin_dict)"
   ]
  },
  {
   "cell_type": "code",
   "execution_count": 6,
   "metadata": {
    "execution": {
     "iopub.execute_input": "2020-11-09T11:35:13.699393Z",
     "iopub.status.busy": "2020-11-09T11:35:13.698065Z",
     "iopub.status.idle": "2020-11-09T11:35:14.051516Z",
     "shell.execute_reply": "2020-11-09T11:35:14.050901Z"
    },
    "papermill": {
     "duration": 0.377555,
     "end_time": "2020-11-09T11:35:14.051654",
     "exception": false,
     "start_time": "2020-11-09T11:35:13.674099",
     "status": "completed"
    },
    "tags": []
   },
   "outputs": [],
   "source": [
    "#drop yıl_ay\n",
    "train_X=train_X.drop(columns=[\"YIL_AY\"])\n",
    "normalized_test_df=normalized_test_df.drop(columns=[\"YIL_AY\"])"
   ]
  },
  {
   "cell_type": "code",
   "execution_count": 7,
   "metadata": {
    "execution": {
     "iopub.execute_input": "2020-11-09T11:35:14.102658Z",
     "iopub.status.busy": "2020-11-09T11:35:14.101654Z",
     "iopub.status.idle": "2020-11-09T11:35:14.109541Z",
     "shell.execute_reply": "2020-11-09T11:35:14.110977Z"
    },
    "papermill": {
     "duration": 0.040509,
     "end_time": "2020-11-09T11:35:14.111153",
     "exception": false,
     "start_time": "2020-11-09T11:35:14.070644",
     "status": "completed"
    },
    "tags": []
   },
   "outputs": [
    {
     "name": "stdout",
     "output_type": "stream",
     "text": [
      "<class 'pandas.core.frame.DataFrame'>\n",
      "RangeIndex: 3526227 entries, 0 to 3526226\n",
      "Data columns (total 28 columns):\n",
      " #   Column                             Dtype  \n",
      "---  ------                             -----  \n",
      " 0   ISLEM_ADEDI                        float64\n",
      " 1   ISLEM_TURU                         int64  \n",
      " 2   customer_id                        int64  \n",
      " 3   sector_id                          int64  \n",
      " 4   cit_bin                            float64\n",
      " 5   islem_ortalamasi_per_sek_cust_tur  float64\n",
      " 6   adet_per_cust                      float64\n",
      " 7   tutar_per_cust                     float64\n",
      " 8   islem_ort_per_cust                 float64\n",
      " 9   adet_per_sek                       float64\n",
      " 10  tutar_per_sek                      float64\n",
      " 11  islem_ort_per_sek                  float64\n",
      " 12  month                              object \n",
      " 13  season                             object \n",
      " 14  adet_per_month                     float64\n",
      " 15  tutar_per_month                    float64\n",
      " 16  islem_ort_per_month                float64\n",
      " 17  islem_ort_per_year                 float64\n",
      " 18  adet_per_ay_sek                    float64\n",
      " 19  tutar_per_ay_sek                   float64\n",
      " 20  islem_ort_per_ay_sek               float64\n",
      " 21  adet_per_mev_sek                   float64\n",
      " 22  tutar_per_mev_sek                  float64\n",
      " 23  doviz_har_ort                      float64\n",
      " 24  pca_ek1                            float64\n",
      " 25  pca_ek2                            float64\n",
      " 26  pca_ek3                            float64\n",
      " 27  pca_doviz1                         float64\n",
      "dtypes: float64(23), int64(3), object(2)\n",
      "memory usage: 753.3+ MB\n"
     ]
    }
   ],
   "source": [
    "train_X.info()"
   ]
  },
  {
   "cell_type": "code",
   "execution_count": 8,
   "metadata": {
    "execution": {
     "iopub.execute_input": "2020-11-09T11:35:14.155732Z",
     "iopub.status.busy": "2020-11-09T11:35:14.154725Z",
     "iopub.status.idle": "2020-11-09T11:35:14.641731Z",
     "shell.execute_reply": "2020-11-09T11:35:14.642224Z"
    },
    "papermill": {
     "duration": 0.511344,
     "end_time": "2020-11-09T11:35:14.642370",
     "exception": false,
     "start_time": "2020-11-09T11:35:14.131026",
     "status": "completed"
    },
    "tags": []
   },
   "outputs": [],
   "source": [
    "df = pd.concat([train_X, normalized_test_df], axis=0, sort=False)"
   ]
  },
  {
   "cell_type": "code",
   "execution_count": 9,
   "metadata": {
    "execution": {
     "iopub.execute_input": "2020-11-09T11:35:14.688437Z",
     "iopub.status.busy": "2020-11-09T11:35:14.687081Z",
     "iopub.status.idle": "2020-11-09T11:35:17.349904Z",
     "shell.execute_reply": "2020-11-09T11:35:17.349326Z"
    },
    "papermill": {
     "duration": 2.688133,
     "end_time": "2020-11-09T11:35:17.350012",
     "exception": false,
     "start_time": "2020-11-09T11:35:14.661879",
     "status": "completed"
    },
    "tags": []
   },
   "outputs": [],
   "source": [
    "df = pd.get_dummies(data=df, columns=['sector_id',\"cit_bin\",\"month\",\"season\"])"
   ]
  },
  {
   "cell_type": "code",
   "execution_count": 10,
   "metadata": {
    "execution": {
     "iopub.execute_input": "2020-11-09T11:35:17.416419Z",
     "iopub.status.busy": "2020-11-09T11:35:17.415770Z",
     "iopub.status.idle": "2020-11-09T11:35:17.419115Z",
     "shell.execute_reply": "2020-11-09T11:35:17.418647Z"
    },
    "papermill": {
     "duration": 0.049384,
     "end_time": "2020-11-09T11:35:17.419214",
     "exception": false,
     "start_time": "2020-11-09T11:35:17.369830",
     "status": "completed"
    },
    "tags": []
   },
   "outputs": [],
   "source": [
    "train_X = df[:len(train_X)]\n",
    "normalized_test_df = df[len(train_X):]"
   ]
  },
  {
   "cell_type": "code",
   "execution_count": 11,
   "metadata": {
    "execution": {
     "iopub.execute_input": "2020-11-09T11:35:17.473574Z",
     "iopub.status.busy": "2020-11-09T11:35:17.471654Z",
     "iopub.status.idle": "2020-11-09T11:35:17.476349Z",
     "shell.execute_reply": "2020-11-09T11:35:17.475547Z"
    },
    "papermill": {
     "duration": 0.037658,
     "end_time": "2020-11-09T11:35:17.476516",
     "exception": false,
     "start_time": "2020-11-09T11:35:17.438858",
     "status": "completed"
    },
    "tags": []
   },
   "outputs": [
    {
     "name": "stdout",
     "output_type": "stream",
     "text": [
      "<class 'pandas.core.frame.DataFrame'>\n",
      "Int64Index: 3526227 entries, 0 to 3526226\n",
      "Columns: 103 entries, ISLEM_ADEDI to season_yaz\n",
      "dtypes: float64(22), int64(2), uint8(79)\n",
      "memory usage: 938.2 MB\n"
     ]
    }
   ],
   "source": [
    "train_X.info()"
   ]
  },
  {
   "cell_type": "code",
   "execution_count": 12,
   "metadata": {
    "execution": {
     "iopub.execute_input": "2020-11-09T11:35:17.533466Z",
     "iopub.status.busy": "2020-11-09T11:35:17.532819Z",
     "iopub.status.idle": "2020-11-09T11:35:19.605327Z",
     "shell.execute_reply": "2020-11-09T11:35:19.604218Z"
    },
    "papermill": {
     "duration": 2.10681,
     "end_time": "2020-11-09T11:35:19.605480",
     "exception": false,
     "start_time": "2020-11-09T11:35:17.498670",
     "status": "completed"
    },
    "tags": []
   },
   "outputs": [],
   "source": [
    "# cross-validation with 5 splits\n",
    "\n",
    "cv = ShuffleSplit(n_splits=5, test_size=0.2, random_state=0)\n",
    "\n",
    "#Importing XGBM Classifier \n",
    "from xgboost import XGBRegressor\n",
    "\n",
    "#creating an extreme Gradient boosting instance\n",
    "xgb = XGBRegressor(\n",
    "                   #early_stopping_rounds=100,\n",
    "                   random_state=0, \n",
    "                   tree_method='gpu_hist', \n",
    "                   verbosity=0\n",
    "                )\n",
    "\n",
    "# parameters \n",
    "parameters_overfit = {\n",
    "                \"n_estimators\": [100, 300, 500],\n",
    "                \"max_depth\": [10, 12, 16],\n",
    "                \"subsample\": [0.4, 0.5, 0.7],\n",
    "                \"reg_lambda\":[1, 5, 10],\n",
    "                \"colsample_bytree\": [0.4, 0.6, 1],\n",
    "                \"max_bin\":[32, 64,128],\n",
    "                'max_leaves': [15, 31, 63],\n",
    "                \"min_child_weight\":[1,5,10],\n",
    "                \n",
    "}\n",
    "# parameters \n",
    "parameters = {\n",
    "                \"n_estimators\": [100, 300, 500],\n",
    "                \"max_depth\": [4, 5, 7],\n",
    "                \"subsample\": [0.4, 0.5, 0.7],\n",
    "                \"reg_lambda\":[1, 5, 10],\n",
    "                \"reg_alpha\": [1, 5, 10],\n",
    "                \"colsample_bytree\": [0.4, 0.5, 0.7],\n",
    "                \"max_bin\":[32, 64,128],\n",
    "                'max_leaves': [15, 31, 63],\n",
    "                \"min_child_weight\":[1,5,10],\n",
    "                \n",
    "}\n",
    "\n",
    "xgb_overfit = XGBRegressor(\n",
    "                        random_state=0, \n",
    "                        tree_method='gpu_hist', \n",
    "                        nthread=-1,\n",
    "                        verbosity=1,\n",
    "                        n_estimators=1000,\n",
    "                        max_depth=16,\n",
    "                        subsample=1,\n",
    "                        reg_lambda=1,\n",
    "                        colsample_bytree=0.4,\n",
    "                        max_bin=128,\n",
    "                        max_leaves=255,\n",
    "                        min_child_weight=1,\n",
    "                        learning_rate=0.001,\n",
    "                       )"
   ]
  },
  {
   "cell_type": "code",
   "execution_count": 13,
   "metadata": {
    "execution": {
     "iopub.execute_input": "2020-11-09T11:35:19.662282Z",
     "iopub.status.busy": "2020-11-09T11:35:19.661388Z",
     "iopub.status.idle": "2020-11-09T15:58:45.741589Z",
     "shell.execute_reply": "2020-11-09T15:58:45.742136Z"
    },
    "papermill": {
     "duration": 15806.116358,
     "end_time": "2020-11-09T15:58:45.742302",
     "exception": false,
     "start_time": "2020-11-09T11:35:19.625944",
     "status": "completed"
    },
    "tags": []
   },
   "outputs": [
    {
     "name": "stdout",
     "output_type": "stream",
     "text": [
      "The best parameters are {'subsample': 0.7, 'reg_lambda': 5, 'reg_alpha': 5, 'n_estimators': 500, 'min_child_weight': 1, 'max_leaves': 63, 'max_depth': 7, 'max_bin': 128, 'colsample_bytree': 0.7} with a score of 0.6710\n"
     ]
    }
   ],
   "source": [
    "# grid search for parameters\n",
    "grid = RandomizedSearchCV(estimator=xgb, param_distributions=parameters, cv=cv, n_iter=100)\n",
    "grid.fit(train_X, train_y)\n",
    "\n",
    "# print best scores\n",
    "print(\"The best parameters are %s with a score of %0.4f\"\n",
    "      % (grid.best_params_, grid.best_score_))"
   ]
  },
  {
   "cell_type": "code",
   "execution_count": 14,
   "metadata": {
    "execution": {
     "iopub.execute_input": "2020-11-09T15:58:45.789516Z",
     "iopub.status.busy": "2020-11-09T15:58:45.788715Z",
     "iopub.status.idle": "2020-11-09T15:59:46.009623Z",
     "shell.execute_reply": "2020-11-09T15:59:46.010771Z"
    },
    "papermill": {
     "duration": 60.247924,
     "end_time": "2020-11-09T15:59:46.010945",
     "exception": false,
     "start_time": "2020-11-09T15:58:45.763021",
     "status": "completed"
    },
    "tags": []
   },
   "outputs": [],
   "source": [
    "# extend n_estimators to 1000\n",
    "best_params_dict=grid.best_estimator_.get_params()\n",
    "best_params_dict[\"n_estimators\"]=1000\n",
    "extented_xgb = XGBRegressor().set_params(**best_params_dict)\n",
    "extented_xgb.fit(train_X, train_y)\n",
    "\n",
    "# prediction results\n",
    "y_pred = extented_xgb.predict(normalized_test_df)"
   ]
  },
  {
   "cell_type": "code",
   "execution_count": 15,
   "metadata": {
    "execution": {
     "iopub.execute_input": "2020-11-09T15:59:46.071991Z",
     "iopub.status.busy": "2020-11-09T15:59:46.071322Z",
     "iopub.status.idle": "2020-11-09T15:59:46.092317Z",
     "shell.execute_reply": "2020-11-09T15:59:46.093214Z"
    },
    "papermill": {
     "duration": 0.055807,
     "end_time": "2020-11-09T15:59:46.093348",
     "exception": false,
     "start_time": "2020-11-09T15:59:46.037541",
     "status": "completed"
    },
    "tags": []
   },
   "outputs": [
    {
     "data": {
      "text/plain": [
       "213690"
      ]
     },
     "execution_count": 15,
     "metadata": {},
     "output_type": "execute_result"
    }
   ],
   "source": [
    "len(np.unique(y_pred))"
   ]
  },
  {
   "cell_type": "code",
   "execution_count": 16,
   "metadata": {
    "execution": {
     "iopub.execute_input": "2020-11-09T15:59:46.150494Z",
     "iopub.status.busy": "2020-11-09T15:59:46.149829Z",
     "iopub.status.idle": "2020-11-09T15:59:46.523195Z",
     "shell.execute_reply": "2020-11-09T15:59:46.522705Z"
    },
    "papermill": {
     "duration": 0.404057,
     "end_time": "2020-11-09T15:59:46.523300",
     "exception": false,
     "start_time": "2020-11-09T15:59:46.119243",
     "status": "completed"
    },
    "tags": []
   },
   "outputs": [
    {
     "data": {
      "text/plain": [
       "(array([1.00000e+00, 0.00000e+00, 0.00000e+00, 1.00000e+00, 1.00000e+00,\n",
       "        3.00000e+00, 7.10000e+01, 2.15811e+05, 2.45200e+03, 6.24000e+02,\n",
       "        2.76000e+02, 1.50000e+02, 8.70000e+01, 4.10000e+01, 3.00000e+01,\n",
       "        3.00000e+01, 1.30000e+01, 1.50000e+01, 6.00000e+00, 9.00000e+00,\n",
       "        6.00000e+00, 3.00000e+00, 2.00000e+00, 4.00000e+00, 3.00000e+00,\n",
       "        2.00000e+00, 3.00000e+00, 3.00000e+00, 2.00000e+00, 0.00000e+00,\n",
       "        1.00000e+00, 0.00000e+00, 1.00000e+00, 0.00000e+00, 1.00000e+00,\n",
       "        0.00000e+00, 1.00000e+00, 1.00000e+00, 1.00000e+00, 2.00000e+00,\n",
       "        1.00000e+00, 0.00000e+00, 0.00000e+00, 0.00000e+00, 1.00000e+00,\n",
       "        0.00000e+00, 0.00000e+00, 0.00000e+00, 0.00000e+00, 1.00000e+00,\n",
       "        1.00000e+00, 0.00000e+00, 0.00000e+00, 0.00000e+00, 0.00000e+00,\n",
       "        0.00000e+00, 1.00000e+00, 0.00000e+00, 0.00000e+00, 0.00000e+00,\n",
       "        0.00000e+00, 0.00000e+00, 0.00000e+00, 0.00000e+00, 0.00000e+00,\n",
       "        0.00000e+00, 0.00000e+00, 0.00000e+00, 0.00000e+00, 0.00000e+00,\n",
       "        0.00000e+00, 0.00000e+00, 0.00000e+00, 0.00000e+00, 0.00000e+00,\n",
       "        0.00000e+00, 0.00000e+00, 0.00000e+00, 0.00000e+00, 0.00000e+00,\n",
       "        0.00000e+00, 0.00000e+00, 0.00000e+00, 0.00000e+00, 0.00000e+00,\n",
       "        0.00000e+00, 0.00000e+00, 0.00000e+00, 0.00000e+00, 0.00000e+00,\n",
       "        0.00000e+00, 0.00000e+00, 0.00000e+00, 0.00000e+00, 0.00000e+00,\n",
       "        0.00000e+00, 0.00000e+00, 0.00000e+00, 0.00000e+00, 1.00000e+00]),\n",
       " array([-32996.45  , -28522.545 , -24048.639 , -19574.734 , -15100.829 ,\n",
       "        -10626.924 ,  -6153.0186,  -1679.1134,   2794.7917,   7268.697 ,\n",
       "         11742.602 ,  16216.507 ,  20690.412 ,  25164.316 ,  29638.223 ,\n",
       "         34112.13  ,  38586.03  ,  43059.938 ,  47533.844 ,  52007.746 ,\n",
       "         56481.652 ,  60955.56  ,  65429.465 ,  69903.37  ,  74377.27  ,\n",
       "         78851.18  ,  83325.086 ,  87798.99  ,  92272.89  ,  96746.8   ,\n",
       "        101220.7   , 105694.61  , 110168.516 , 114642.42  , 119116.33  ,\n",
       "        123590.23  , 128064.13  , 132538.05  , 137011.94  , 141485.84  ,\n",
       "        145959.75  , 150433.66  , 154907.56  , 159381.47  , 163855.38  ,\n",
       "        168329.28  , 172803.19  , 177277.1   , 181751.    , 186224.9   ,\n",
       "        190698.81  , 195172.72  , 199646.61  , 204120.52  , 208594.42  ,\n",
       "        213068.33  , 217542.23  , 222016.14  , 226490.05  , 230963.95  ,\n",
       "        235437.86  , 239911.77  , 244385.67  , 248859.58  , 253333.48  ,\n",
       "        257807.39  , 262281.28  , 266755.2   , 271229.1   , 275703.    ,\n",
       "        280176.9   , 284650.8   , 289124.72  , 293598.62  , 298072.53  ,\n",
       "        302546.44  , 307020.34  , 311494.25  , 315968.16  , 320442.06  ,\n",
       "        324915.97  , 329389.88  , 333863.78  , 338337.7   , 342811.6   ,\n",
       "        347285.5   , 351759.4   , 356233.28  , 360707.2   , 365181.1   ,\n",
       "        369655.    , 374128.9   , 378602.8   , 383076.72  , 387550.62  ,\n",
       "        392024.53  , 396498.44  , 400972.34  , 405446.25  , 409920.16  ,\n",
       "        414394.06  ], dtype=float32),\n",
       " <a list of 100 Patch objects>)"
      ]
     },
     "execution_count": 16,
     "metadata": {},
     "output_type": "execute_result"
    },
    {
     "data": {
      "image/png": "[encoded data removed]",
      "text/plain": [
       "<Figure size 432x288 with 1 Axes>"
      ]
     },
     "metadata": {
      "needs_background": "light"
     },
     "output_type": "display_data"
    }
   ],
   "source": [
    "plt.hist(y_pred, bins=100)"
   ]
  },
  {
   "cell_type": "code",
   "execution_count": 17,
   "metadata": {
    "execution": {
     "iopub.execute_input": "2020-11-09T15:59:46.574720Z",
     "iopub.status.busy": "2020-11-09T15:59:46.572653Z",
     "iopub.status.idle": "2020-11-09T15:59:46.577742Z",
     "shell.execute_reply": "2020-11-09T15:59:46.578186Z"
    },
    "papermill": {
     "duration": 0.031974,
     "end_time": "2020-11-09T15:59:46.578299",
     "exception": false,
     "start_time": "2020-11-09T15:59:46.546325",
     "status": "completed"
    },
    "tags": []
   },
   "outputs": [
    {
     "data": {
      "text/plain": [
       "2926"
      ]
     },
     "execution_count": 17,
     "metadata": {},
     "output_type": "execute_result"
    }
   ],
   "source": [
    "np.sum(y_pred<=0)"
   ]
  },
  {
   "cell_type": "code",
   "execution_count": 18,
   "metadata": {
    "execution": {
     "iopub.execute_input": "2020-11-09T15:59:46.631179Z",
     "iopub.status.busy": "2020-11-09T15:59:46.630438Z",
     "iopub.status.idle": "2020-11-09T15:59:49.369157Z",
     "shell.execute_reply": "2020-11-09T15:59:49.368373Z"
    },
    "papermill": {
     "duration": 2.767734,
     "end_time": "2020-11-09T15:59:49.369318",
     "exception": false,
     "start_time": "2020-11-09T15:59:46.601584",
     "status": "completed"
    },
    "tags": []
   },
   "outputs": [
    {
     "data": {
      "text/plain": [
       "<matplotlib.axes._subplots.AxesSubplot at 0x7f7950149990>"
      ]
     },
     "execution_count": 18,
     "metadata": {},
     "output_type": "execute_result"
    },
    {
     "data": {
      "image/png": "[encoded data removed]",
      "text/plain": [
       "<Figure size 1152x1152 with 1 Axes>"
      ]
     },
     "metadata": {
      "needs_background": "light"
     },
     "output_type": "display_data"
    }
   ],
   "source": [
    "importance_df=pd.DataFrame(zip(normalized_test_df.columns.tolist(),extented_xgb.feature_importances_),columns=[\"feature\",\"importance\"])\n",
    "\n",
    "import seaborn as sns\n",
    "plt.figure(figsize=(16, 16))\n",
    "sns.barplot(data=importance_df.sort_values(by='importance', ascending=False), x='importance', y='feature')"
   ]
  },
  {
   "cell_type": "code",
   "execution_count": 19,
   "metadata": {
    "execution": {
     "iopub.execute_input": "2020-11-09T15:59:49.457288Z",
     "iopub.status.busy": "2020-11-09T15:59:49.456465Z",
     "iopub.status.idle": "2020-11-09T15:59:52.401559Z",
     "shell.execute_reply": "2020-11-09T15:59:52.400996Z"
    },
    "papermill": {
     "duration": 2.995127,
     "end_time": "2020-11-09T15:59:52.401677",
     "exception": false,
     "start_time": "2020-11-09T15:59:49.406550",
     "status": "completed"
    },
    "tags": []
   },
   "outputs": [
    {
     "data": {
      "text/plain": [
       "<matplotlib.axes._subplots.AxesSubplot at 0x7f78f666c850>"
      ]
     },
     "execution_count": 19,
     "metadata": {},
     "output_type": "execute_result"
    },
    {
     "data": {
      "image/png": "[encoded data removed]",
      "text/plain": [
       "<Figure size 432x288 with 1 Axes>"
      ]
     },
     "metadata": {
      "needs_background": "light"
     },
     "output_type": "display_data"
    }
   ],
   "source": [
    "from xgboost import plot_tree\n",
    "plot_tree(extented_xgb, num_trees=0)"
   ]
  },
  {
   "cell_type": "code",
   "execution_count": 20,
   "metadata": {
    "execution": {
     "iopub.execute_input": "2020-11-09T15:59:52.468167Z",
     "iopub.status.busy": "2020-11-09T15:59:52.466147Z",
     "iopub.status.idle": "2020-11-09T15:59:55.113794Z",
     "shell.execute_reply": "2020-11-09T15:59:55.112871Z"
    },
    "papermill": {
     "duration": 2.685023,
     "end_time": "2020-11-09T15:59:55.113909",
     "exception": false,
     "start_time": "2020-11-09T15:59:52.428886",
     "status": "completed"
    },
    "tags": []
   },
   "outputs": [
    {
     "data": {
      "text/plain": [
       "<matplotlib.axes._subplots.AxesSubplot at 0x7f78f62a73d0>"
      ]
     },
     "execution_count": 20,
     "metadata": {},
     "output_type": "execute_result"
    },
    {
     "data": {
      "image/png": "[encoded data removed]",
      "text/plain": [
       "<Figure size 432x288 with 1 Axes>"
      ]
     },
     "metadata": {
      "needs_background": "light"
     },
     "output_type": "display_data"
    }
   ],
   "source": [
    "plot_tree(extented_xgb, num_trees=1)"
   ]
  },
  {
   "cell_type": "code",
   "execution_count": 21,
   "metadata": {
    "execution": {
     "iopub.execute_input": "2020-11-09T15:59:55.192767Z",
     "iopub.status.busy": "2020-11-09T15:59:55.191626Z",
     "iopub.status.idle": "2020-11-09T15:59:57.487707Z",
     "shell.execute_reply": "2020-11-09T15:59:57.486760Z"
    },
    "papermill": {
     "duration": 2.344863,
     "end_time": "2020-11-09T15:59:57.487820",
     "exception": false,
     "start_time": "2020-11-09T15:59:55.142957",
     "status": "completed"
    },
    "tags": []
   },
   "outputs": [
    {
     "data": {
      "text/plain": [
       "<matplotlib.axes._subplots.AxesSubplot at 0x7f78f49f4990>"
      ]
     },
     "execution_count": 21,
     "metadata": {},
     "output_type": "execute_result"
    },
    {
     "data": {
      "image/png": "[encoded data removed]",
      "text/plain": [
       "<Figure size 432x288 with 1 Axes>"
      ]
     },
     "metadata": {
      "needs_background": "light"
     },
     "output_type": "display_data"
    }
   ],
   "source": [
    "plot_tree(extented_xgb, num_trees=50)"
   ]
  },
  {
   "cell_type": "code",
   "execution_count": 22,
   "metadata": {
    "execution": {
     "iopub.execute_input": "2020-11-09T15:59:57.559462Z",
     "iopub.status.busy": "2020-11-09T15:59:57.554402Z",
     "iopub.status.idle": "2020-11-09T16:00:00.044260Z",
     "shell.execute_reply": "2020-11-09T16:00:00.044961Z"
    },
    "papermill": {
     "duration": 2.526924,
     "end_time": "2020-11-09T16:00:00.045302",
     "exception": false,
     "start_time": "2020-11-09T15:59:57.518378",
     "status": "completed"
    },
    "tags": []
   },
   "outputs": [
    {
     "data": {
      "text/plain": [
       "<matplotlib.axes._subplots.AxesSubplot at 0x7f78f4a9cbd0>"
      ]
     },
     "execution_count": 22,
     "metadata": {},
     "output_type": "execute_result"
    },
    {
     "data": {
      "image/png": "[encoded data removed]",
      "text/plain": [
       "<Figure size 432x288 with 1 Axes>"
      ]
     },
     "metadata": {
      "needs_background": "light"
     },
     "output_type": "display_data"
    }
   ],
   "source": [
    "plot_tree(extented_xgb, num_trees=100)"
   ]
  },
  {
   "cell_type": "code",
   "execution_count": 23,
   "metadata": {
    "execution": {
     "iopub.execute_input": "2020-11-09T16:00:00.390157Z",
     "iopub.status.busy": "2020-11-09T16:00:00.389183Z",
     "iopub.status.idle": "2020-11-09T16:00:00.556790Z",
     "shell.execute_reply": "2020-11-09T16:00:00.556179Z"
    },
    "papermill": {
     "duration": 0.480303,
     "end_time": "2020-11-09T16:00:00.556910",
     "exception": false,
     "start_time": "2020-11-09T16:00:00.076607",
     "status": "completed"
    },
    "tags": []
   },
   "outputs": [],
   "source": [
    "# prediction results\n",
    "pred_df=pd.DataFrame(zip(df_test1['sector_id'], y_pred), columns=['sector_id', 'predictions'])\n"
   ]
  },
  {
   "cell_type": "code",
   "execution_count": 24,
   "metadata": {
    "execution": {
     "iopub.execute_input": "2020-11-09T16:00:00.627383Z",
     "iopub.status.busy": "2020-11-09T16:00:00.626504Z",
     "iopub.status.idle": "2020-11-09T16:00:00.636294Z",
     "shell.execute_reply": "2020-11-09T16:00:00.635787Z"
    },
    "papermill": {
     "duration": 0.048054,
     "end_time": "2020-11-09T16:00:00.636390",
     "exception": false,
     "start_time": "2020-11-09T16:00:00.588336",
     "status": "completed"
    },
    "tags": []
   },
   "outputs": [],
   "source": [
    "submission_dff=pred_df.groupby('sector_id').sum()\n",
    "ss=submission_dff.reset_index()"
   ]
  },
  {
   "cell_type": "code",
   "execution_count": 25,
   "metadata": {
    "execution": {
     "iopub.execute_input": "2020-11-09T16:00:00.704101Z",
     "iopub.status.busy": "2020-11-09T16:00:00.703368Z",
     "iopub.status.idle": "2020-11-09T16:00:00.707054Z",
     "shell.execute_reply": "2020-11-09T16:00:00.706593Z"
    },
    "papermill": {
     "duration": 0.039464,
     "end_time": "2020-11-09T16:00:00.707149",
     "exception": false,
     "start_time": "2020-11-09T16:00:00.667685",
     "status": "completed"
    },
    "tags": []
   },
   "outputs": [],
   "source": [
    "ss=ss.rename(columns={\"sector_id\": \"Sektor_Id\", \"predictions\": \"Expected\"})"
   ]
  },
  {
   "cell_type": "code",
   "execution_count": 26,
   "metadata": {
    "execution": {
     "iopub.execute_input": "2020-11-09T16:00:00.775155Z",
     "iopub.status.busy": "2020-11-09T16:00:00.774288Z",
     "iopub.status.idle": "2020-11-09T16:00:01.819468Z",
     "shell.execute_reply": "2020-11-09T16:00:01.818910Z"
    },
    "papermill": {
     "duration": 1.081395,
     "end_time": "2020-11-09T16:00:01.819581",
     "exception": false,
     "start_time": "2020-11-09T16:00:00.738186",
     "status": "completed"
    },
    "tags": []
   },
   "outputs": [],
   "source": [
    "ss.to_csv('out_random_search_xgboost.csv',index=False)\n",
    "pred_df.to_csv('pred_df_random_search_xg', index=False)"
   ]
  },
  {
   "cell_type": "code",
   "execution_count": null,
   "metadata": {
    "papermill": {
     "duration": 0.031811,
     "end_time": "2020-11-09T16:00:01.883984",
     "exception": false,
     "start_time": "2020-11-09T16:00:01.852173",
     "status": "completed"
    },
    "tags": []
   },
   "outputs": [],
   "source": []
  }
 ],
 "metadata": {
  "kernelspec": {
   "display_name": "Python 3",
   "language": "python",
   "name": "python3"
  },
  "language_info": {
   "codemirror_mode": {
    "name": "ipython",
    "version": 3
   },
   "file_extension": ".py",
   "mimetype": "text/x-python",
   "name": "python",
   "nbconvert_exporter": "python",
   "pygments_lexer": "ipython3",
   "version": "3.7.6"
  },
  "papermill": {
   "duration": 15924.663295,
   "end_time": "2020-11-09T16:00:03.279099",
   "environment_variables": {},
   "exception": null,
   "input_path": "__notebook__.ipynb",
   "output_path": "__notebook__.ipynb",
   "parameters": {},
   "start_time": "2020-11-09T11:34:38.615804",
   "version": "2.1.0"
  }
 },
 "nbformat": 4,
 "nbformat_minor": 4
}
